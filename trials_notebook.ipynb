{
 "cells": [
  {
   "attachments": {},
   "cell_type": "markdown",
   "metadata": {},
   "source": [
    "## UK councils web scraping trials"
   ]
  },
  {
   "cell_type": "code",
   "execution_count": 1,
   "metadata": {},
   "outputs": [],
   "source": [
    "import requests\n",
    "from bs4 import BeautifulSoup\n",
    "\n",
    "import numpy as np\n",
    "import pandas as pd"
   ]
  },
  {
   "cell_type": "markdown",
   "metadata": {},
   "source": [
    "## Councils from England and Wales"
   ]
  },
  {
   "cell_type": "code",
   "execution_count": 3,
   "metadata": {},
   "outputs": [],
   "source": [
    "url_england_wales = \"https://www.local.gov.uk/our-support/guidance-and-resources/communications-support/digital-councils/social-media/go-further/a-z-councils-online\""
   ]
  },
  {
   "cell_type": "code",
   "execution_count": 5,
   "metadata": {},
   "outputs": [],
   "source": [
    "response_e_w = requests.get(url_england_wales)\n",
    "soup_e_w = BeautifulSoup(response_e_w.content, \"html.parser\")"
   ]
  },
  {
   "cell_type": "code",
   "execution_count": 10,
   "metadata": {},
   "outputs": [],
   "source": [
    "councils_e_w_html = soup_e_w.find_all(\"strong\")"
   ]
  },
  {
   "cell_type": "code",
   "execution_count": 55,
   "metadata": {},
   "outputs": [
    {
     "data": {
      "text/plain": [
       "'https://www.adur-worthing.gov.uk/'"
      ]
     },
     "execution_count": 55,
     "metadata": {},
     "output_type": "execute_result"
    }
   ],
   "source": [
    "councils_e_w_html[0].find(\"a\")[\"href\"]"
   ]
  },
  {
   "cell_type": "code",
   "execution_count": 14,
   "metadata": {},
   "outputs": [
    {
     "data": {
      "text/plain": [
       "'Adur and Worthing Borough Council'"
      ]
     },
     "execution_count": 14,
     "metadata": {},
     "output_type": "execute_result"
    }
   ],
   "source": [
    "councils_e_w_html[0].string"
   ]
  },
  {
   "cell_type": "code",
   "execution_count": 23,
   "metadata": {},
   "outputs": [],
   "source": [
    "councils_e_w_dict = {\"Name\": [], \"Web\": []}\n",
    "for council in councils_e_w_html:\n",
    "    councils_e_w_dict[\"Name\"].append(council.string)\n",
    "    if not council.find(\"a\"):\n",
    "        councils_e_w_dict[\"Web\"].append(\"\")\n",
    "    else:\n",
    "        councils_e_w_dict[\"Web\"].append(council.find(\"a\")[\"href\"])"
   ]
  },
  {
   "cell_type": "code",
   "execution_count": 49,
   "metadata": {},
   "outputs": [
    {
     "data": {
      "text/html": [
       "<div>\n",
       "<style scoped>\n",
       "    .dataframe tbody tr th:only-of-type {\n",
       "        vertical-align: middle;\n",
       "    }\n",
       "\n",
       "    .dataframe tbody tr th {\n",
       "        vertical-align: top;\n",
       "    }\n",
       "\n",
       "    .dataframe thead th {\n",
       "        text-align: right;\n",
       "    }\n",
       "</style>\n",
       "<table border=\"1\" class=\"dataframe\">\n",
       "  <thead>\n",
       "    <tr style=\"text-align: right;\">\n",
       "      <th></th>\n",
       "      <th>Name</th>\n",
       "      <th>Web</th>\n",
       "    </tr>\n",
       "  </thead>\n",
       "  <tbody>\n",
       "    <tr>\n",
       "      <th>0</th>\n",
       "      <td>Adur and Worthing Borough Council</td>\n",
       "      <td>https://www.adur-worthing.gov.uk/</td>\n",
       "    </tr>\n",
       "    <tr>\n",
       "      <th>1</th>\n",
       "      <td>Adur District Council</td>\n",
       "      <td>https://www.adur-worthing.gov.uk/</td>\n",
       "    </tr>\n",
       "    <tr>\n",
       "      <th>2</th>\n",
       "      <td>Allerdale Borough Council</td>\n",
       "      <td>https://www.allerdale.gov.uk/</td>\n",
       "    </tr>\n",
       "    <tr>\n",
       "      <th>3</th>\n",
       "      <td>Amber Valley Borough Council</td>\n",
       "      <td>https://www.ambervalley.gov.uk/</td>\n",
       "    </tr>\n",
       "    <tr>\n",
       "      <th>4</th>\n",
       "      <td>Arun District Council</td>\n",
       "      <td>https://www.arun.gov.uk/</td>\n",
       "    </tr>\n",
       "    <tr>\n",
       "      <th>...</th>\n",
       "      <td>...</td>\n",
       "      <td>...</td>\n",
       "    </tr>\n",
       "    <tr>\n",
       "      <th>372</th>\n",
       "      <td>Wrexham County Borough Council</td>\n",
       "      <td>https://www.wrexham.gov.uk/</td>\n",
       "    </tr>\n",
       "    <tr>\n",
       "      <th>373</th>\n",
       "      <td>Wychavon District Council</td>\n",
       "      <td>https://www.wychavon.gov.uk/</td>\n",
       "    </tr>\n",
       "    <tr>\n",
       "      <th>374</th>\n",
       "      <td>Wycombe District Council</td>\n",
       "      <td>https://www.wycombe.gov.uk/</td>\n",
       "    </tr>\n",
       "    <tr>\n",
       "      <th>375</th>\n",
       "      <td>Wyre Council</td>\n",
       "      <td>https://www.wyre.gov.uk/</td>\n",
       "    </tr>\n",
       "    <tr>\n",
       "      <th>376</th>\n",
       "      <td>Wyre Forest District Council</td>\n",
       "      <td>https://www.wyreforestdc.gov.uk/</td>\n",
       "    </tr>\n",
       "  </tbody>\n",
       "</table>\n",
       "<p>377 rows × 2 columns</p>\n",
       "</div>"
      ],
      "text/plain": [
       "                                  Name                                Web\n",
       "0    Adur and Worthing Borough Council  https://www.adur-worthing.gov.uk/\n",
       "1                Adur District Council  https://www.adur-worthing.gov.uk/\n",
       "2            Allerdale Borough Council      https://www.allerdale.gov.uk/\n",
       "3         Amber Valley Borough Council    https://www.ambervalley.gov.uk/\n",
       "4                Arun District Council           https://www.arun.gov.uk/\n",
       "..                                 ...                                ...\n",
       "372     Wrexham County Borough Council        https://www.wrexham.gov.uk/\n",
       "373          Wychavon District Council       https://www.wychavon.gov.uk/\n",
       "374           Wycombe District Council        https://www.wycombe.gov.uk/\n",
       "375                       Wyre Council           https://www.wyre.gov.uk/\n",
       "376       Wyre Forest District Council   https://www.wyreforestdc.gov.uk/\n",
       "\n",
       "[377 rows x 2 columns]"
      ]
     },
     "execution_count": 49,
     "metadata": {},
     "output_type": "execute_result"
    }
   ],
   "source": [
    "councils_e_w_df = pd.DataFrame.from_dict(councils_e_w_dict)\n",
    "councils_e_w_df"
   ]
  },
  {
   "cell_type": "code",
   "execution_count": 52,
   "metadata": {},
   "outputs": [],
   "source": [
    "councils_e_w_df[\"Web\"][10] = \"https://www.barrowbc.gov.uk/\"\n",
    "councils_e_w_df[\"Web\"][25] = \"https://www.mybostonuk.com/\""
   ]
  },
  {
   "cell_type": "code",
   "execution_count": 53,
   "metadata": {},
   "outputs": [
    {
     "data": {
      "text/html": [
       "<div>\n",
       "<style scoped>\n",
       "    .dataframe tbody tr th:only-of-type {\n",
       "        vertical-align: middle;\n",
       "    }\n",
       "\n",
       "    .dataframe tbody tr th {\n",
       "        vertical-align: top;\n",
       "    }\n",
       "\n",
       "    .dataframe thead th {\n",
       "        text-align: right;\n",
       "    }\n",
       "</style>\n",
       "<table border=\"1\" class=\"dataframe\">\n",
       "  <thead>\n",
       "    <tr style=\"text-align: right;\">\n",
       "      <th></th>\n",
       "      <th>Name</th>\n",
       "      <th>Web</th>\n",
       "    </tr>\n",
       "  </thead>\n",
       "  <tbody>\n",
       "    <tr>\n",
       "      <th>0</th>\n",
       "      <td>Adur and Worthing Borough Council</td>\n",
       "      <td>https://www.adur-worthing.gov.uk/</td>\n",
       "    </tr>\n",
       "    <tr>\n",
       "      <th>1</th>\n",
       "      <td>Adur District Council</td>\n",
       "      <td>https://www.adur-worthing.gov.uk/</td>\n",
       "    </tr>\n",
       "    <tr>\n",
       "      <th>2</th>\n",
       "      <td>Allerdale Borough Council</td>\n",
       "      <td>https://www.allerdale.gov.uk/</td>\n",
       "    </tr>\n",
       "    <tr>\n",
       "      <th>3</th>\n",
       "      <td>Amber Valley Borough Council</td>\n",
       "      <td>https://www.ambervalley.gov.uk/</td>\n",
       "    </tr>\n",
       "    <tr>\n",
       "      <th>4</th>\n",
       "      <td>Arun District Council</td>\n",
       "      <td>https://www.arun.gov.uk/</td>\n",
       "    </tr>\n",
       "    <tr>\n",
       "      <th>5</th>\n",
       "      <td>Ashfield District Council</td>\n",
       "      <td>https://www.ashfield.gov.uk/</td>\n",
       "    </tr>\n",
       "    <tr>\n",
       "      <th>6</th>\n",
       "      <td>Ashford Borough Council</td>\n",
       "      <td>https://www.ashford.gov.uk/</td>\n",
       "    </tr>\n",
       "    <tr>\n",
       "      <th>7</th>\n",
       "      <td>Aylesbury Vale District Council</td>\n",
       "      <td>https://www.aylesburyvaledc.gov.uk/</td>\n",
       "    </tr>\n",
       "    <tr>\n",
       "      <th>8</th>\n",
       "      <td>Babergh District Council</td>\n",
       "      <td>https://www.babergh.gov.uk/</td>\n",
       "    </tr>\n",
       "    <tr>\n",
       "      <th>9</th>\n",
       "      <td>Barnsley Metropolitan Borough Council</td>\n",
       "      <td>https://www.barnsley.gov.uk/</td>\n",
       "    </tr>\n",
       "    <tr>\n",
       "      <th>10</th>\n",
       "      <td>Barrow-in-Furness Borough Council</td>\n",
       "      <td>https://www.barrowbc.gov.uk/</td>\n",
       "    </tr>\n",
       "    <tr>\n",
       "      <th>11</th>\n",
       "      <td>Basildon Borough Council</td>\n",
       "      <td>https://www.basildon.gov.uk/</td>\n",
       "    </tr>\n",
       "    <tr>\n",
       "      <th>12</th>\n",
       "      <td>Basingstoke and Deane Borough Council</td>\n",
       "      <td>https://www.basingstoke.gov.uk/</td>\n",
       "    </tr>\n",
       "    <tr>\n",
       "      <th>13</th>\n",
       "      <td>Bassetlaw District Council</td>\n",
       "      <td>https://www.bassetlaw.gov.uk/</td>\n",
       "    </tr>\n",
       "    <tr>\n",
       "      <th>14</th>\n",
       "      <td>Bath and North East Somerset Council</td>\n",
       "      <td>https://beta.bathnes.gov.uk/</td>\n",
       "    </tr>\n",
       "    <tr>\n",
       "      <th>15</th>\n",
       "      <td>Bedford Borough Council</td>\n",
       "      <td>https://www.bedford.gov.uk/</td>\n",
       "    </tr>\n",
       "    <tr>\n",
       "      <th>16</th>\n",
       "      <td>Birmingham City Council</td>\n",
       "      <td>https://www.birmingham.gov.uk/</td>\n",
       "    </tr>\n",
       "    <tr>\n",
       "      <th>17</th>\n",
       "      <td>Blaby District Council</td>\n",
       "      <td>https://www.blaby.gov.uk/</td>\n",
       "    </tr>\n",
       "    <tr>\n",
       "      <th>18</th>\n",
       "      <td>Blackburn with Darwen Borough Council</td>\n",
       "      <td>https://www.blackburn.gov.uk/</td>\n",
       "    </tr>\n",
       "    <tr>\n",
       "      <th>19</th>\n",
       "      <td>Blackpool Borough Council</td>\n",
       "      <td>https://www.blackpool.gov.uk/Home.aspx</td>\n",
       "    </tr>\n",
       "    <tr>\n",
       "      <th>20</th>\n",
       "      <td>Blaenau Gwent County Borough Council</td>\n",
       "      <td>https://www.blaenau-gwent.gov.uk/</td>\n",
       "    </tr>\n",
       "    <tr>\n",
       "      <th>21</th>\n",
       "      <td>Bolsover District Council</td>\n",
       "      <td>https://www.bolsover.gov.uk/</td>\n",
       "    </tr>\n",
       "    <tr>\n",
       "      <th>22</th>\n",
       "      <td>Bolton Metropolitan Borough Council</td>\n",
       "      <td>https://www.bolton.gov.uk/</td>\n",
       "    </tr>\n",
       "    <tr>\n",
       "      <th>23</th>\n",
       "      <td>Borough of Broxbourne</td>\n",
       "      <td>https://www.broxbourne.gov.uk/</td>\n",
       "    </tr>\n",
       "    <tr>\n",
       "      <th>24</th>\n",
       "      <td>Borough of Poole</td>\n",
       "      <td>https://www.poole.gov.uk/</td>\n",
       "    </tr>\n",
       "    <tr>\n",
       "      <th>25</th>\n",
       "      <td>Boston Borough Council</td>\n",
       "      <td>https://www.mybostonuk.com/</td>\n",
       "    </tr>\n",
       "    <tr>\n",
       "      <th>26</th>\n",
       "      <td>Bournemouth Borough Council</td>\n",
       "      <td>https://www.bournemouth.gov.uk/Home.aspx</td>\n",
       "    </tr>\n",
       "    <tr>\n",
       "      <th>27</th>\n",
       "      <td>Bracknell Forest Council</td>\n",
       "      <td>https://www.bracknell-forest.gov.uk/</td>\n",
       "    </tr>\n",
       "    <tr>\n",
       "      <th>28</th>\n",
       "      <td>Bradford Metropolitan District Council</td>\n",
       "      <td>https://www.bradford.gov.uk/</td>\n",
       "    </tr>\n",
       "    <tr>\n",
       "      <th>29</th>\n",
       "      <td>Braintree District Council</td>\n",
       "      <td>https://www.braintree.gov.uk/</td>\n",
       "    </tr>\n",
       "  </tbody>\n",
       "</table>\n",
       "</div>"
      ],
      "text/plain": [
       "                                      Name  \\\n",
       "0        Adur and Worthing Borough Council   \n",
       "1                    Adur District Council   \n",
       "2                Allerdale Borough Council   \n",
       "3             Amber Valley Borough Council   \n",
       "4                    Arun District Council   \n",
       "5                Ashfield District Council   \n",
       "6                  Ashford Borough Council   \n",
       "7          Aylesbury Vale District Council   \n",
       "8                 Babergh District Council   \n",
       "9    Barnsley Metropolitan Borough Council   \n",
       "10       Barrow-in-Furness Borough Council   \n",
       "11                Basildon Borough Council   \n",
       "12   Basingstoke and Deane Borough Council   \n",
       "13              Bassetlaw District Council   \n",
       "14    Bath and North East Somerset Council   \n",
       "15                 Bedford Borough Council   \n",
       "16                 Birmingham City Council   \n",
       "17                  Blaby District Council   \n",
       "18   Blackburn with Darwen Borough Council   \n",
       "19               Blackpool Borough Council   \n",
       "20    Blaenau Gwent County Borough Council   \n",
       "21               Bolsover District Council   \n",
       "22     Bolton Metropolitan Borough Council   \n",
       "23                   Borough of Broxbourne   \n",
       "24                        Borough of Poole   \n",
       "25                  Boston Borough Council   \n",
       "26             Bournemouth Borough Council   \n",
       "27                Bracknell Forest Council   \n",
       "28  Bradford Metropolitan District Council   \n",
       "29              Braintree District Council   \n",
       "\n",
       "                                         Web  \n",
       "0          https://www.adur-worthing.gov.uk/  \n",
       "1          https://www.adur-worthing.gov.uk/  \n",
       "2              https://www.allerdale.gov.uk/  \n",
       "3            https://www.ambervalley.gov.uk/  \n",
       "4                   https://www.arun.gov.uk/  \n",
       "5               https://www.ashfield.gov.uk/  \n",
       "6                https://www.ashford.gov.uk/  \n",
       "7        https://www.aylesburyvaledc.gov.uk/  \n",
       "8                https://www.babergh.gov.uk/  \n",
       "9               https://www.barnsley.gov.uk/  \n",
       "10              https://www.barrowbc.gov.uk/  \n",
       "11              https://www.basildon.gov.uk/  \n",
       "12           https://www.basingstoke.gov.uk/  \n",
       "13             https://www.bassetlaw.gov.uk/  \n",
       "14              https://beta.bathnes.gov.uk/  \n",
       "15               https://www.bedford.gov.uk/  \n",
       "16            https://www.birmingham.gov.uk/  \n",
       "17                 https://www.blaby.gov.uk/  \n",
       "18             https://www.blackburn.gov.uk/  \n",
       "19    https://www.blackpool.gov.uk/Home.aspx  \n",
       "20         https://www.blaenau-gwent.gov.uk/  \n",
       "21              https://www.bolsover.gov.uk/  \n",
       "22                https://www.bolton.gov.uk/  \n",
       "23            https://www.broxbourne.gov.uk/  \n",
       "24                 https://www.poole.gov.uk/  \n",
       "25               https://www.mybostonuk.com/  \n",
       "26  https://www.bournemouth.gov.uk/Home.aspx  \n",
       "27      https://www.bracknell-forest.gov.uk/  \n",
       "28              https://www.bradford.gov.uk/  \n",
       "29             https://www.braintree.gov.uk/  "
      ]
     },
     "execution_count": 53,
     "metadata": {},
     "output_type": "execute_result"
    }
   ],
   "source": [
    "councils_e_w_df[0:30]"
   ]
  },
  {
   "cell_type": "code",
   "execution_count": 64,
   "metadata": {},
   "outputs": [],
   "source": [
    "councils_e_w_df.to_csv(\"councils_england_wales.csv\", index = False)"
   ]
  },
  {
   "cell_type": "markdown",
   "metadata": {},
   "source": [
    "## Councils from North Ireland"
   ]
  },
  {
   "cell_type": "code",
   "execution_count": 84,
   "metadata": {},
   "outputs": [],
   "source": [
    "url_n_i = \"https://www.nidirect.gov.uk/contacts/local-councils-in-northern-ireland\"\n",
    "response_n_i = requests.get(url_n_i)\n",
    "soup_n_i = BeautifulSoup(response_n_i.content, \"html.parser\")\n",
    "councils_n_i_html = soup_n_i.find_all(\"span\", class_=\"field-content\")\n",
    "councils_n_i_dict = {\"Name\": [], \"Web\": [], \"Email\": []}\n",
    "for council in councils_n_i_html:\n",
    "    councils_n_i_dict[\"Name\"].append(council.string)\n",
    "    url = f'https://www.nidirect.gov.uk{council.find(\"a\")[\"href\"]}'\n",
    "    response = requests.get(url)\n",
    "    soup = BeautifulSoup(response.content, \"html.parser\")\n",
    "    councils_n_i_dict[\"Web\"].append(soup.find(\"span\", class_=\"url fn\").find(\"a\")[\"href\"])\n",
    "    councils_n_i_dict[\"Email\"].append(soup.find(\"span\", class_=\"value\").find(\"a\")[\"href\"][7:])\n",
    "councils_n_i_df = pd.DataFrame.from_dict(councils_n_i_dict)\n",
    "councils_n_i_df.to_csv(\"councils_north_ireland.csv\", index = False)"
   ]
  },
  {
   "cell_type": "markdown",
   "metadata": {},
   "source": [
    "## Coincils in Scotland"
   ]
  },
  {
   "cell_type": "code",
   "execution_count": 82,
   "metadata": {},
   "outputs": [],
   "source": [
    "url_scotland = \"https://www.mygov.scot/find-your-local-council\"\n",
    "response_s = requests.get(url_scotland)\n",
    "soup_s = BeautifulSoup(response_s.content, \"html.parser\")\n",
    "councils_s_html = soup_s.find(\"div\", class_ =\"dd finder-hero form-box js-contentselect\")\n",
    "councils_s_html_2 = councils_s_html.find_all(\"a\")"
   ]
  },
  {
   "cell_type": "code",
   "execution_count": 86,
   "metadata": {},
   "outputs": [],
   "source": [
    "councils_s_dict = {\"Name\": [], \"Web\": [], \"Email\": []}\n",
    "for council in councils_s_html_2:\n",
    "    councils_s_dict[\"Name\"].append(council.string[6:])\n",
    "    councils_s_dict[\"Web\"].append(council[\"href\"])\n",
    "    councils_s_dict[\"Email\"].append(\"\")\n",
    "councils_s_df = pd.DataFrame.from_dict(councils_s_dict)\n",
    "councils_s_df.to_csv(\"councils_scotland.csv\", index = False)"
   ]
  }
 ],
 "metadata": {
  "kernelspec": {
   "display_name": "Python 3",
   "language": "python",
   "name": "python3"
  },
  "language_info": {
   "codemirror_mode": {
    "name": "ipython",
    "version": 3
   },
   "file_extension": ".py",
   "mimetype": "text/x-python",
   "name": "python",
   "nbconvert_exporter": "python",
   "pygments_lexer": "ipython3",
   "version": "3.10.6"
  },
  "orig_nbformat": 4
 },
 "nbformat": 4,
 "nbformat_minor": 2
}
